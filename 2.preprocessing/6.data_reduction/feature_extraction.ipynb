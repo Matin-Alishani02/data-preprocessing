{
 "cells": [
  {
   "cell_type": "code",
   "execution_count": null,
   "metadata": {},
   "outputs": [],
   "source": [
    "from sklearn.decomposition import PCA\n",
    "from sklearn.decomposition import KernelPCA\n",
    "from sklearn.decomposition import IncrementalPCA\n",
    "from sklearn.decomposition import SparsePCA\n",
    "from sklearn.decomposition import FactorAnalysis\n",
    "from sklearn.decomposition import TruncatedSVD\n",
    "from sklearn.decomposition import FastICA\n",
    "from sklearn.decomposition import NMF\n",
    "from sklearn.discriminant_analysis import LinearDiscriminantAnalysis\n",
    "from sklearn.manifold import Isomap\n",
    "from sklearn.manifold import LocallyLinearEmbedding\n",
    "from sklearn.manifold import MDS\n",
    "from sklearn.manifold import SpectralEmbedding\n",
    "from sklearn.manifold import TSNE"
   ]
  },
  {
   "cell_type": "code",
   "execution_count": null,
   "metadata": {},
   "outputs": [],
   "source": [
    "def PerformDR (DRT):\n",
    "                        txtLog.setPlainText(DRT + '....'  + '\\n' + txtLog.toPlainText())\n",
    "                        global LRData\n",
    "                        global dr_columns\n",
    "                        dr_columns = int(df.shape[1] * 0.6)\n",
    "\n",
    "                        if dr_columns > X.shape[0]:\n",
    "                            dr_columns=X.shape[0]\n",
    "\n",
    "                        if DRT=='PCA':\n",
    "                            transformer = PCA(n_components=dr_columns)\n",
    "                        if DRT=='IPCA':\n",
    "                            transformer = IncrementalPCA(n_components=dr_columns)\n",
    "                        if DRT=='SPCA':\n",
    "                            transformer = SparsePCA(n_components=int(dr_columns * 0.25))\n",
    "                        if DRT=='FA':\n",
    "                            transformer = FactorAnalysis(n_components=dr_columns)\n",
    "                        if DRT=='NMF':\n",
    "                            transformer = NMF(ncomponents=dr_columns, init='random', random_state=0)\n",
    "                        if DRT=='KPCA':\n",
    "                            transformer = KernelPCA(kernel=\"linear\", n_components=dr_columns)\n",
    "                        if DRT=='LDA':\n",
    "                            transformer = LinearDiscriminantAnalysis()\n",
    "                        if DRT=='SVD':\n",
    "                            transformer = TruncatedSVD(n_components=dr_columns,n_iter=7, random_state=42)\n",
    "                        if DRT=='ICA':\n",
    "                            transformer = FastICA(n_components=dr_columns, random_state=0)\n",
    "                        if DRT=='ISOMAP':\n",
    "                            transformer = Isomap(n_components=dr_columns)\n",
    "                        if DRT=='LLE':\n",
    "                            transformer = LocallyLinearEmbedding(n_components=dr_columns)\n",
    "                        if DRT=='MDS':\n",
    "                            X_transformed = MDS(n_components=dr_columns).fit_transform(X)\n",
    "                        if DRT=='SE':\n",
    "                            transformer = SpectralEmbedding()\n",
    "                            X_transformed = transformer.fit_transform(X)\n",
    "                        if DRT=='SVD':\n",
    "                            transformer = TruncatedSVD(n_components=int(dr_columns*0.6),n_iter=7, random_state=42)\n",
    "                        if DRT=='SNE':\n",
    "                            transformer = TSNE()\n",
    "                            X_transformed = transformer.fit_transform(X)\n",
    "                        if DRT=='None':\n",
    "                            X_transformed = X\n",
    "\n",
    "                        if DRT!='MDS' and DRT!='None' and DRT!='SE' and DRT!='SNE':\n",
    "                            transformer.fit(X,y)\n",
    "                            X_transformed = transformer.transform(X)\n"
   ]
  }
 ],
 "metadata": {
  "kernelspec": {
   "display_name": "Python 3.10.7 64-bit",
   "language": "python",
   "name": "python3"
  },
  "language_info": {
   "name": "python",
   "version": "3.10.7"
  },
  "orig_nbformat": 4,
  "vscode": {
   "interpreter": {
    "hash": "d4c2de42543a6f9fcca96a4e3fbf1db91792fbdc03c384b5ae3c44821a984476"
   }
  }
 },
 "nbformat": 4,
 "nbformat_minor": 2
}
